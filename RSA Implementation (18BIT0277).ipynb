{
 "cells": [
  {
   "cell_type": "markdown",
   "metadata": {},
   "source": [
    "# RSA Implementation in end-to-end message transfer in Python"
   ]
  },
  {
   "cell_type": "markdown",
   "metadata": {},
   "source": [
    "By Rounak Basak (18BIT0277)"
   ]
  },
  {
   "cell_type": "markdown",
   "metadata": {},
   "source": [
    "Importing required libraries"
   ]
  },
  {
   "cell_type": "code",
   "execution_count": 1,
   "metadata": {},
   "outputs": [],
   "source": [
    "import random"
   ]
  },
  {
   "cell_type": "markdown",
   "metadata": {},
   "source": [
    "First we have to select 2 prime numbers: p,q"
   ]
  },
  {
   "cell_type": "code",
   "execution_count": 2,
   "metadata": {},
   "outputs": [],
   "source": [
    "def is_prime(n):\n",
    "    if n == 2:\n",
    "        return True\n",
    "    if n < 2 or n % 2 == 0:\n",
    "        return False\n",
    "    for m in range(3, int(n**0.5)+2, 2):\n",
    "        if n % m == 0:\n",
    "            return False\n",
    "    return True\n",
    "\n",
    "def check_prime(p,q):\n",
    "    if not (is_prime(p) and is_prime(q)):\n",
    "        raise ValueError('Both numbers must be prime.')\n",
    "    elif p == q:\n",
    "        raise ValueError('p and q cannot be equal')"
   ]
  },
  {
   "cell_type": "markdown",
   "metadata": {},
   "source": [
    "We need to create some more functions for calculating gcd and value of d:"
   ]
  },
  {
   "cell_type": "code",
   "execution_count": 3,
   "metadata": {},
   "outputs": [],
   "source": [
    "def gcd(m, n):\n",
    "    while n != 0:\n",
    "        m, n = n, m % n\n",
    "    return m\n",
    "\n",
    "def value_d(e,phi):\n",
    "    for i in range(phi):\n",
    "        if (i*e%phi==1):\n",
    "            return i"
   ]
  },
  {
   "cell_type": "markdown",
   "metadata": {},
   "source": [
    "Now we have to generate public and private keys:"
   ]
  },
  {
   "cell_type": "code",
   "execution_count": 5,
   "metadata": {},
   "outputs": [],
   "source": [
    "def generate_keys(p,q):\n",
    "    check_prime(p,q)\n",
    "    n = p * q #n is modulus of p and q\n",
    "\n",
    "    phi = (p-1) * (q-1) #Phi is the totient of n\n",
    "\n",
    "    e = random.randrange(1, phi) #Choose an integer e such that e and phi(n) are coprime\n",
    "    \n",
    "    g = gcd(e, phi)\n",
    "    while g != 1: #Use Euclid's Algorithm to verify that e and phi(n) are comprime\n",
    "        e = random.randrange(1, phi)\n",
    "        g = gcd(e, phi)\n",
    "\n",
    "    d = value_d(e, phi) #Use Extended Euclid's Algorithm to generate the private key\n",
    "    \n",
    "    return ((e, n), (d, n)) #Public key is (e, n) and private key is (d, n)"
   ]
  },
  {
   "cell_type": "markdown",
   "metadata": {},
   "source": [
    "Now we can go for the encryption and decryption"
   ]
  },
  {
   "cell_type": "code",
   "execution_count": 6,
   "metadata": {},
   "outputs": [],
   "source": [
    "def encrypt(pk, plaintext):\n",
    "    \n",
    "    key, n = pk #Unpack the key into it's components\n",
    "    \n",
    "    cipher = [(ord(char) ** key) % n for char in plaintext] #Convert each letter in the plaintext to respective numbers\n",
    "    \n",
    "    return cipher #Return the cipher"
   ]
  },
  {
   "cell_type": "code",
   "execution_count": 7,
   "metadata": {},
   "outputs": [],
   "source": [
    "def decrypt(pk, ciphertext):\n",
    "    \n",
    "    key, n = pk #Unpack the key into its components\n",
    "    \n",
    "    plain = [chr((char ** key) % n) for char in ciphertext] #Generate the plaintext based on the ciphertext and key\n",
    "    \n",
    "    return ''.join(plain) #Return the plaintext"
   ]
  },
  {
   "cell_type": "code",
   "execution_count": 13,
   "metadata": {},
   "outputs": [
    {
     "name": "stdout",
     "output_type": "stream",
     "text": [
      "Enter a prime number (p): 19\n",
      "Enter another prime number (q): 11\n",
      "Your public key is  (43, 209)  and your private key is  (67, 209)\n",
      "Enter the chat to be sent: Hi, How are you?\n",
      "\n",
      "Encrypting message...\n",
      "The message sent is: \n",
      "5120566105118816810141528510121188228\n",
      "\n",
      "\n",
      "Sending message through internet...\n",
      "\n",
      "\n",
      "Decrypting message...\n",
      "The recieved message is: \n",
      "Hi, How are you?\n"
     ]
    }
   ],
   "source": [
    "#Taking p and q values from the user\n",
    "p = int(input(\"Enter a prime number (p): \"))\n",
    "q = int(input(\"Enter another prime number (q): \"))\n",
    "\n",
    "#Generating public and private keys\n",
    "public, private = generate_keys(p, q)\n",
    "print (\"Your public key is \", public ,\" and your private key is \", private)\n",
    "\n",
    "#Taking as input the message to be encrypted\n",
    "message = input(\"Enter the chat to be sent: \")\n",
    "encrypted_msg = encrypt(public, message)\n",
    "print (\"\\nEncrypting message...\")\n",
    "print (\"The message sent is: \")\n",
    "print (''.join(map(lambda x: str(x), encrypted_msg)))\n",
    "print (\"\\n\\nSending message through internet...\\n\\n\")\n",
    "\n",
    "print (\"Decrypting message...\")\n",
    "print (\"The recieved message is: \")\n",
    "print (decrypt(private, encrypted_msg))"
   ]
  },
  {
   "cell_type": "code",
   "execution_count": null,
   "metadata": {},
   "outputs": [],
   "source": []
  }
 ],
 "metadata": {
  "kernelspec": {
   "display_name": "Python 3",
   "language": "python",
   "name": "python3"
  },
  "language_info": {
   "codemirror_mode": {
    "name": "ipython",
    "version": 3
   },
   "file_extension": ".py",
   "mimetype": "text/x-python",
   "name": "python",
   "nbconvert_exporter": "python",
   "pygments_lexer": "ipython3",
   "version": "3.6.5"
  }
 },
 "nbformat": 4,
 "nbformat_minor": 2
}
